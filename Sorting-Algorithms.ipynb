{
 "cells": [
  {
   "cell_type": "code",
   "execution_count": 11,
   "metadata": {},
   "outputs": [
    {
     "name": "stdout",
     "output_type": "stream",
     "text": [
      "[1, 2, 3, 8, 10, 15]\n"
     ]
    }
   ],
   "source": [
    "##  INSERTION SORT  \n",
    "\n",
    "arr=[10,2,15,8,3,1]\n",
    "for i in range(1,len(arr)):\n",
    "    for j in range(i-1,-1,-1):\n",
    "        if arr[j]>arr[j+1]:\n",
    "            arr[j],arr[j+1]=arr[j+1],arr[j]\n",
    "        else:\n",
    "            break\n",
    "print(arr)"
   ]
  },
  {
   "cell_type": "code",
   "execution_count": 18,
   "metadata": {},
   "outputs": [
    {
     "name": "stdout",
     "output_type": "stream",
     "text": [
      "[1, 2, 3, 8, 10, 15]\n"
     ]
    }
   ],
   "source": [
    "##   SELECTION SORT\n",
    "\n",
    "ar=[10,2,15,8,3,1]\n",
    "for i in range(len(arr)):\n",
    "    a=i\n",
    "    for j in range(i+1,len(arr)):\n",
    "        if ar[a]>ar[j]:\n",
    "            a=j\n",
    "    ar[i],ar[a]=ar[a],ar[i]\n",
    "print(ar)"
   ]
  },
  {
   "cell_type": "code",
   "execution_count": 24,
   "metadata": {},
   "outputs": [
    {
     "name": "stdout",
     "output_type": "stream",
     "text": [
      "[1, 2, 3, 5, 8, 10]\n"
     ]
    }
   ],
   "source": [
    "##  BUBBLE SORT\n",
    "\n",
    "a=[10,2,5,8,3,1]\n",
    "for i in range(len(a)):\n",
    "    for j in range(len(a)-1-i):\n",
    "        if(a[j]>a[j+1]):\n",
    "            a[j],a[j+1]=a[j+1],a[j]\n",
    "print(a)"
   ]
  },
  {
   "cell_type": "code",
   "execution_count": 31,
   "metadata": {},
   "outputs": [
    {
     "name": "stdout",
     "output_type": "stream",
     "text": [
      "[3, 5, 6, 7, 9, 10, 25]\n"
     ]
    }
   ],
   "source": [
    "##    MERGR SORT\n",
    "\n",
    "\n",
    "def mergesort(arr):\n",
    "    l=[]\n",
    "    r=[]\n",
    "    if(len(arr)>1):\n",
    "        mid=len(arr)//2\n",
    "        l=arr[:mid]\n",
    "        r=arr[mid:]\n",
    "        mergesort(l)\n",
    "        mergesort(r)\n",
    "        i,j,k=0,0,0\n",
    "        while i<len(l) and j<len(r):\n",
    "            if(l[i]>r[j]):\n",
    "                arr[k]=r[j]\n",
    "                j+=1\n",
    "            else:\n",
    "                arr[k]=l[i]\n",
    "                i+=1\n",
    "            k+=1\n",
    "        while (i<len(l)):\n",
    "            arr[k]=l[i]\n",
    "            i+=1\n",
    "            k+=1\n",
    "        while (j<len(r)):\n",
    "            arr[k]=r[j]\n",
    "            j+=1\n",
    "            k+=1\n",
    "        return arr\n",
    "l=[25,3,6,10,7,5,9]\n",
    "print(mergesort(l))"
   ]
  },
  {
   "cell_type": "code",
   "execution_count": 41,
   "metadata": {},
   "outputs": [
    {
     "name": "stdout",
     "output_type": "stream",
     "text": [
      "[2, 3, 12, 34, 54]\n"
     ]
    }
   ],
   "source": [
    "## SHELL SORT\n",
    "\n",
    "ls=[12,34,54,2,3]\n",
    "gap=len(ls)//2\n",
    "while gap>0:\n",
    "    for i in range(gap,len(ls)):\n",
    "        temp=ls[i]\n",
    "        j=i\n",
    "        while j>=gap and ls[j-gap]>temp:\n",
    "            ls[j]=ls[j-gap]\n",
    "            j-=gap\n",
    "        ls[j]=temp\n",
    "    gap=gap//2\n",
    "print(ls)"
   ]
  },
  {
   "cell_type": "code",
   "execution_count": 53,
   "metadata": {},
   "outputs": [],
   "source": []
  },
  {
   "cell_type": "code",
   "execution_count": 81,
   "metadata": {},
   "outputs": [],
   "source": []
  },
  {
   "cell_type": "code",
   "execution_count": null,
   "metadata": {},
   "outputs": [],
   "source": []
  },
  {
   "cell_type": "code",
   "execution_count": 84,
   "metadata": {},
   "outputs": [
    {
     "name": "stdout",
     "output_type": "stream",
     "text": [
      "19\n",
      "[1, 2, 3, 6, 9]\n"
     ]
    }
   ],
   "source": [
    "##   PHILANDAR COIN\n",
    "## Minimum coins problem\n",
    "x=int(input())\n",
    "l=[]\n",
    "for i in range(1,x):\n",
    "    if(x%i==0):\n",
    "        l.append(i)\n",
    "if(sum(l)>=x):\n",
    "    print(l)\n",
    "else:\n",
    "    rem=x-sum(l)\n",
    "    for j in range(1,rem):\n",
    "        if(rem%j==0):\n",
    "            if(j not in l):\n",
    "                l.append(j)\n",
    "    if(sum(l)>x):\n",
    "        print(l)\n",
    "    else:\n",
    "        a=l.pop(l.index(max(l)))\n",
    "        l.append(a-1)\n",
    "        rem1=x-sum(l)\n",
    "        for k in range(1,rem1):\n",
    "            for j in range(1,rem):\n",
    "                if(rem1%k==0):\n",
    "                    if(k not in l):\n",
    "                        l.append(k)\n",
    "        print(l)"
   ]
  },
  {
   "cell_type": "code",
   "execution_count": null,
   "metadata": {},
   "outputs": [],
   "source": []
  },
  {
   "cell_type": "code",
   "execution_count": null,
   "metadata": {},
   "outputs": [],
   "source": []
  }
 ],
 "metadata": {
  "kernelspec": {
   "display_name": "Python 3",
   "language": "python",
   "name": "python3"
  },
  "language_info": {
   "codemirror_mode": {
    "name": "ipython",
    "version": 3
   },
   "file_extension": ".py",
   "mimetype": "text/x-python",
   "name": "python",
   "nbconvert_exporter": "python",
   "pygments_lexer": "ipython3",
   "version": "3.7.0"
  }
 },
 "nbformat": 4,
 "nbformat_minor": 2
}
